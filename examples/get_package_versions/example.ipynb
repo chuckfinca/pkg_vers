{
 "cells": [
  {
   "cell_type": "markdown",
   "metadata": {},
   "source": [
    "# Extracting Imported Packages from a Jupyter Notebook\n",
    "\n",
    "This notebook demonstrates how to use the `get_package_versions_from_ipynb` function to extract the imported packages from a Jupyter Notebook file."
   ]
  },
  {
   "cell_type": "markdown",
   "metadata": {},
   "source": [
    "## Example Usage\n",
    "\n",
    "To use the `get_package_versions_from_ipynb` function, provide the path to a Jupyter Notebook file as an argument. The function will return a set of unique imported packages found in the notebook."
   ]
  },
  {
   "cell_type": "code",
   "execution_count": 1,
   "metadata": {},
   "outputs": [],
   "source": [
    "import torch\n",
    "import sklearn\n",
    "import numpy"
   ]
  },
  {
   "cell_type": "code",
   "execution_count": 5,
   "metadata": {},
   "outputs": [
    {
     "name": "stdout",
     "output_type": "stream",
     "text": [
      "Imported packages: {'sklearn': '1.4.2', 'pkg_vers': '0.0.7', 'torch': '1.13.1', 'numpy': '1.26.4'}\n"
     ]
    }
   ],
   "source": [
    "import pkg_vers\n",
    "\n",
    "notebook_path = 'example.ipynb'\n",
    "imported_packages = pkg_vers.get_pkg_vers(notebook_path)\n",
    "print(\"Imported packages:\", imported_packages)"
   ]
  }
 ],
 "metadata": {
  "kernelspec": {
   "display_name": "Python 3",
   "language": "python",
   "name": "python3"
  },
  "language_info": {
   "codemirror_mode": {
    "name": "ipython",
    "version": 3
   },
   "file_extension": ".py",
   "mimetype": "text/x-python",
   "name": "python",
   "nbconvert_exporter": "python",
   "pygments_lexer": "ipython3",
   "version": "3.9.-1"
  }
 },
 "nbformat": 4,
 "nbformat_minor": 4
}
